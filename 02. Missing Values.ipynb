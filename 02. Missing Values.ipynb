{
 "cells": [
  {
   "cell_type": "code",
   "execution_count": 54,
   "metadata": {},
   "outputs": [],
   "source": [
    "# importing libraries\n",
    "import pandas as pd\n",
    "\n",
    "from sklearn.model_selection import train_test_split\n",
    "from sklearn.ensemble import RandomForestRegressor\n",
    "from sklearn.metrics import mean_absolute_error\n",
    "from sklearn.impute import SimpleImputer\n",
    "\n",
    "import matplotlib.pyplot as plt\n",
    "import seaborn as sns"
   ]
  },
  {
   "cell_type": "code",
   "execution_count": 55,
   "metadata": {},
   "outputs": [],
   "source": [
    "# reading data\n",
    "melb_data = pd.read_csv('Data/melb_data.csv')"
   ]
  },
  {
   "cell_type": "code",
   "execution_count": 56,
   "metadata": {},
   "outputs": [
    {
     "data": {
      "text/plain": [
       "(13580, 21)"
      ]
     },
     "execution_count": 56,
     "metadata": {},
     "output_type": "execute_result"
    }
   ],
   "source": [
    "# examining data\n",
    "melb_data.head()"
   ]
  },
  {
   "cell_type": "code",
   "execution_count": 67,
   "metadata": {},
   "outputs": [],
   "source": [
    "# setting 'Price' column as target for predctions\n",
    "y = melbourne_data.Price\n",
    "\n",
    "#features preparation\n",
    "features = melb_data.drop(['Price'], axis=1) # remove 'Price' column\n",
    "\n",
    "# only numerical predicators\n",
    "X = features.select_dtypes(exclude=['object'])\n",
    "\n",
    "# divide data into training and validation subsets\n",
    "X_train, X_valid, y_train, y_valid = train_test_split(X, y, train_size=0.8, test_size=0.2, random_state=0)"
   ]
  },
  {
   "cell_type": "code",
   "execution_count": 68,
   "metadata": {},
   "outputs": [],
   "source": [
    "# function for comparing different approaches in missing values\n",
    "\n",
    "def score_dataset(X_train, X_valid, y_train, y_valid):\n",
    "    model = RandomForestRegressor(n_estimators=10, random_state=10)\n",
    "    model.fit(X_train, y_train)\n",
    "    preds = model.predict(X_valid)\n",
    "    return mean_absolute_error(y_valid, preds)"
   ]
  },
  {
   "cell_type": "code",
   "execution_count": 69,
   "metadata": {},
   "outputs": [],
   "source": [
    "# approach 1 - drop columns with missing values\n",
    "\n",
    "def drop_columns(X_train, X_valid):\n",
    "    # retrieve names of columns with missing values\n",
    "    cols_with_missing_values = [col for col in X_train.columns if X_train[col].isnull().any()]\n",
    "\n",
    "    #drop columns from dataset | axis=0 - row, axis=1 - column\n",
    "    reduced_X_train = X_train.drop(cols_with_missing_values, axis=1)\n",
    "    reduced_X_valid = X_valid.drop(cols_with_missing_values, axis=1)\n",
    "    \n",
    "    return [reduced_X_train, reduced_X_valid]"
   ]
  },
  {
   "cell_type": "code",
   "execution_count": 70,
   "metadata": {},
   "outputs": [
    {
     "data": {
      "text/plain": [
       "181715.7551528859"
      ]
     },
     "execution_count": 70,
     "metadata": {},
     "output_type": "execute_result"
    }
   ],
   "source": [
    "# scoring of 1st approach\n",
    "\n",
    "# drop columns with missing values\n",
    "reduced_X_train, reduced_X_valid = drop_columns(X_train, X_valid)\n",
    "\n",
    "# predict and evaluating MAE\n",
    "MAE_drop_column = score_dataset(reduced_X_train, reduced_X_valid, y_train, y_valid)\n",
    "MAE_drop_column"
   ]
  },
  {
   "cell_type": "code",
   "execution_count": 71,
   "metadata": {},
   "outputs": [],
   "source": [
    "# approach 2 - replacing missing values with the mean value along each column\n",
    "\n",
    "def imputation_dataset(X_train, X_valid):\n",
    "    # define imputer\n",
    "    imputer = SimpleImputer()\n",
    "\n",
    "    # transform datasets\n",
    "    imputed_X_train = pd.DataFrame(imputer.fit_transform(X_train))\n",
    "    imputed_X_valid = pd.DataFrame(imputer.transform(X_valid))\n",
    "    \n",
    "    # add columns' names\n",
    "    imputed_X_train.columns = X_train.columns\n",
    "    imputed_X_valid.columns = X_valid.columns\n",
    "    \n",
    "    return [imputed_X_train, imputed_X_valid]"
   ]
  },
  {
   "cell_type": "code",
   "execution_count": 72,
   "metadata": {},
   "outputs": [
    {
     "data": {
      "text/plain": [
       "178946.13161512028"
      ]
     },
     "execution_count": 72,
     "metadata": {},
     "output_type": "execute_result"
    }
   ],
   "source": [
    "# scoring of 2nd approach\n",
    "\n",
    "# imputation missing values\n",
    "imputed_X_train, imputed_X_valid = imputation_dataset(X_train, X_valid)\n",
    "\n",
    "# predict and evaluating MAE\n",
    "MAE_imputation = score_dataset(imputed_X_train, imputed_X_valid, y_train, y_valid)\n",
    "MAE_imputation"
   ]
  },
  {
   "cell_type": "code",
   "execution_count": 73,
   "metadata": {},
   "outputs": [],
   "source": [
    "# approach 3 - replacing missing values with the mean value along each column and mark which values were imputed\n",
    "\n",
    "# copy of original datasets\n",
    "X_train_extn = X_train.copy()\n",
    "X_valid_extn = X_valid.copy()\n",
    "\n",
    "cols_with_missing_values = [col for col in X_train.columns if X_train[col].isnull().any()]\n",
    "\n",
    "def imputation_with_mark_dataset(X_train, X_valid):\n",
    "    # add new column\n",
    "    for col in cols_with_missing_values:\n",
    "        X_train_extn[col + '_was_missing'] = X_train_extn[col].isnull()\n",
    "        X_valid_extn[col + '_was_missing'] = X_valid_extn[col].isnull()\n",
    "    \n",
    "    # return imputation function result\n",
    "    return imputation_dataset(X_train_extn, X_valid_extn)"
   ]
  },
  {
   "cell_type": "code",
   "execution_count": 74,
   "metadata": {},
   "outputs": [
    {
     "data": {
      "text/plain": [
       "177984.30143593522"
      ]
     },
     "execution_count": 74,
     "metadata": {},
     "output_type": "execute_result"
    }
   ],
   "source": [
    "# scoring of 3rd approach\n",
    "\n",
    "# imputation missing values with mark\n",
    "mark_imputed_X_train, mark_imputed_X_valid = imputation_with_mark_dataset(X_train, X_valid)\n",
    "\n",
    "# predict and evaluating MAE\n",
    "MAE_mark_imputation = score_dataset(mark_imputed_X_train, mark_imputed_X_valid, y_train, y_valid)\n",
    "MAE_mark_imputation"
   ]
  },
  {
   "cell_type": "code",
   "execution_count": 75,
   "metadata": {},
   "outputs": [],
   "source": [
    "# create list of MAEs\n",
    "mae_list = [MAE_drop_column, MAE_imputation, MAE_mark_imputation]\n",
    "\n",
    "# mae rescaling\n",
    "# for m in range(0, len(mae_list)):\n",
    "#     mae_list[m] = mae_list[m] / 10000"
   ]
  },
  {
   "cell_type": "code",
   "execution_count": 76,
   "metadata": {
    "scrolled": false
   },
   "outputs": [
    {
     "data": {
      "text/plain": [
       "Text(0, 0.5, 'Mean Absolute Error')"
      ]
     },
     "execution_count": 76,
     "metadata": {},
     "output_type": "execute_result"
    },
    {
     "data": {
      "image/png": "[encoded data removed]",
      "text/plain": [
       "<Figure size 576x432 with 1 Axes>"
      ]
     },
     "metadata": {},
     "output_type": "display_data"
    }
   ],
   "source": [
    "# visualizing differences in approach to missing values\n",
    "\n",
    "# plot area size\n",
    "plt.figure(figsize=(8,6))\n",
    "\n",
    "# style\n",
    "sns.set_theme(style=\"whitegrid\")\n",
    "\n",
    "# plot title\n",
    "plt.title(\"Differences in approach to missing values with Scikit library\")\n",
    "\n",
    "# define barplot\n",
    "mae_barplot = sns.barplot(x=['drop column', 'imputation', 'imputation with mark'], y=mae_list)\n",
    "\n",
    "# set data labels\n",
    "for p in mae_barplot.patches:\n",
    "    # get the height of each bar\n",
    "    height = p.get_height()\n",
    "    # adding text to each bar\n",
    "    mae_barplot.text(x = p.get_x()+(p.get_width()/2), # x-coordinate position of data label, padded to be in the middle of the bar\n",
    "    y = height+100, # y-coordinate position of data label, padded 100 above bar\n",
    "    s = '{:.0f}'.format(height), # data label, formatted to ignore decimals\n",
    "    ha = 'center') # sets horizontal alignment (ha) to center\n",
    "\n",
    "# axis labels\n",
    "plt.xlabel(\"Approach\")\n",
    "plt.ylabel(\"Mean Absolute Error\")"
   ]
  },
  {
   "cell_type": "code",
   "execution_count": null,
   "metadata": {},
   "outputs": [],
   "source": []
  }
 ],
 "metadata": {
  "kernelspec": {
   "display_name": "Python 3",
   "language": "python",
   "name": "python3"
  },
  "language_info": {
   "codemirror_mode": {
    "name": "ipython",
    "version": 3
   },
   "file_extension": ".py",
   "mimetype": "text/x-python",
   "name": "python",
   "nbconvert_exporter": "python",
   "pygments_lexer": "ipython3",
   "version": "3.9.0"
  }
 },
 "nbformat": 4,
 "nbformat_minor": 4
}
