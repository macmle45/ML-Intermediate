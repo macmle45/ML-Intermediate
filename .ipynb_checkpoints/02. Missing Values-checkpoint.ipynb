{
 "cells": [
  {
   "cell_type": "code",
   "execution_count": 10,
   "metadata": {},
   "outputs": [],
   "source": [
    "# importing libraries\n",
    "import pandas as pd\n",
    "from sklearn.model_selection import train_test_split\n",
    "from sklearn.ensemble import RandomForestRegressor\n",
    "from sklearn.metrics import mean_absolute_error\n",
    "from sklearn.impute import SimpleImputer"
   ]
  },
  {
   "cell_type": "code",
   "execution_count": 14,
   "metadata": {},
   "outputs": [],
   "source": [
    "# reading data\n",
    "melbourne_data = pd.read_csv('Data/melb_data.csv')"
   ]
  },
  {
   "cell_type": "code",
   "execution_count": 13,
   "metadata": {},
   "outputs": [
    {
     "data": {
      "text/plain": [
       "(13580, 21)"
      ]
     },
     "execution_count": 13,
     "metadata": {},
     "output_type": "execute_result"
    }
   ],
   "source": [
    "# examining data\n",
    "melbourne_data.head()\n",
    "melbourne_data.shape"
   ]
  },
  {
   "cell_type": "code",
   "execution_count": 15,
   "metadata": {},
   "outputs": [],
   "source": [
    "# setting 'Price' column as target for predctions\n",
    "y = melbourne_data.Price\n",
    "\n",
    "# copy of original dataset and features preparation\n",
    "melb_data = melbourne_data.copy()\n",
    "features = melb_data.drop(['Price'], axis=1) # remove 'Price' column\n",
    "\n",
    "# only numerical predicators\n",
    "X = features.select_dtypes(exclude=['object'])\n",
    "\n",
    "# divide data into training and validation subsets\n",
    "X_train, X_valid, y_train, y_valid = train_test_split(X, y, train_size=0.8, test_size=0.2, random_state=0)"
   ]
  },
  {
   "cell_type": "code",
   "execution_count": 16,
   "metadata": {},
   "outputs": [],
   "source": [
    "# function for comparing different approaches in missing values\n",
    "\n",
    "def score_dataset(X_train, X_valid, y_train, y_valid):\n",
    "    model = RandomForestRegressor(n_estimators=10, random_state=10)\n",
    "    model.fit(X_train, y_train)\n",
    "    preds = model.predict(X_valid)\n",
    "    return mean_absolute_error(y_valid, preds)"
   ]
  },
  {
   "cell_type": "code",
   "execution_count": 17,
   "metadata": {},
   "outputs": [],
   "source": [
    "# approach 1 - drop columns with missing values\n",
    "\n",
    "def drop_columns(X_train, X_valid):\n",
    "    # retrieve names of columns with missing values\n",
    "    cols_with_missing_values = [col for col in X_train.columns if X_train[col].isnull().any()]\n",
    "\n",
    "    #drop columns from dataset | axis=0 - row, axis=1 - column\n",
    "    reduced_X_train = X_train.drop(cols_with_missing_values, axis=1)\n",
    "    reduced_X_valid = X_valid.drop(cols_with_missing_values, axis=1)\n",
    "    \n",
    "    return [reduced_X_train, reduced_X_valid]"
   ]
  },
  {
   "cell_type": "code",
   "execution_count": 18,
   "metadata": {},
   "outputs": [
    {
     "data": {
      "text/plain": [
       "181715.7551528859"
      ]
     },
     "execution_count": 18,
     "metadata": {},
     "output_type": "execute_result"
    }
   ],
   "source": [
    "# scoring of 1st approach\n",
    "\n",
    "# drop columns with missing values\n",
    "reduced_X_train, reduced_X_valid = drop_columns(X_train, X_valid)\n",
    "\n",
    "# predict and evaluating MAE\n",
    "mae = score_dataset(reduced_X_train, reduced_X_valid, y_train, y_valid)\n",
    "mae"
   ]
  },
  {
   "cell_type": "code",
   "execution_count": null,
   "metadata": {},
   "outputs": [],
   "source": [
    "# approach 2 - replacing missing values with the mean value along each column\n",
    "\n",
    "def imputation_dataset(X_train, X_valid):\n",
    "    # define imputer\n",
    "    imputer = SimpleImputer()\n",
    "\n",
    "    # transform datasets\n",
    "    imputed_X_train = pd.DataFrame(imputer.fit_transform(X_train))\n",
    "    imputed_X_valid = pd.DataFrame(imputer.transform(X_valid))\n",
    "    \n",
    "    # add columns' names\n",
    "    imputed_X_train.columns = X_train.columns\n",
    "    imputed_X_valid.columns = X_valid.columns\n",
    "    \n",
    "    return [imputed_X_train, imputed_X_valid]"
   ]
  }
 ],
 "metadata": {
  "kernelspec": {
   "display_name": "Python 3",
   "language": "python",
   "name": "python3"
  },
  "language_info": {
   "codemirror_mode": {
    "name": "ipython",
    "version": 3
   },
   "file_extension": ".py",
   "mimetype": "text/x-python",
   "name": "python",
   "nbconvert_exporter": "python",
   "pygments_lexer": "ipython3",
   "version": "3.9.0"
  }
 },
 "nbformat": 4,
 "nbformat_minor": 4
}
