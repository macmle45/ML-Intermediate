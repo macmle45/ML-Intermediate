{
 "cells": [
  {
   "cell_type": "markdown",
   "metadata": {},
   "source": [
    "## Libraries"
   ]
  },
  {
   "cell_type": "code",
   "execution_count": 54,
   "metadata": {},
   "outputs": [],
   "source": [
    "# importing libraries \n",
    "import pandas as pd\n",
    "\n",
    "from sklearn.model_selection import train_test_split\n",
    "from sklearn.metrics import mean_absolute_error\n",
    "from sklearn.impute import SimpleImputer\n",
    "\n",
    "import matplotlib.pyplot as plt\n",
    "import seaborn as sns\n",
    "\n",
    "# extreme gradient boosting library\n",
    "from xgboost import XGBRegressor"
   ]
  },
  {
   "cell_type": "markdown",
   "metadata": {},
   "source": [
    "## Preliminary data checking"
   ]
  },
  {
   "cell_type": "code",
   "execution_count": 31,
   "metadata": {},
   "outputs": [],
   "source": [
    "# reading data\n",
    "X = pd.read_csv('Data/train.csv', index_col='Id')\n",
    "X_test_full = pd.read_csv('Data/test.csv', index_col='Id')"
   ]
  },
  {
   "cell_type": "code",
   "execution_count": 32,
   "metadata": {},
   "outputs": [
    {
     "data": {
      "text/plain": [
       "(1460, 80)"
      ]
     },
     "execution_count": 32,
     "metadata": {},
     "output_type": "execute_result"
    }
   ],
   "source": [
    "X.shape"
   ]
  },
  {
   "cell_type": "code",
   "execution_count": 33,
   "metadata": {
    "scrolled": true
   },
   "outputs": [
    {
     "data": {
      "text/html": [
       "<div>\n",
       "<style scoped>\n",
       "    .dataframe tbody tr th:only-of-type {\n",
       "        vertical-align: middle;\n",
       "    }\n",
       "\n",
       "    .dataframe tbody tr th {\n",
       "        vertical-align: top;\n",
       "    }\n",
       "\n",
       "    .dataframe thead th {\n",
       "        text-align: right;\n",
       "    }\n",
       "</style>\n",
       "<table border=\"1\" class=\"dataframe\">\n",
       "  <thead>\n",
       "    <tr style=\"text-align: right;\">\n",
       "      <th></th>\n",
       "      <th>MSSubClass</th>\n",
       "      <th>MSZoning</th>\n",
       "      <th>LotFrontage</th>\n",
       "      <th>LotArea</th>\n",
       "      <th>Street</th>\n",
       "      <th>Alley</th>\n",
       "      <th>LotShape</th>\n",
       "      <th>LandContour</th>\n",
       "      <th>Utilities</th>\n",
       "      <th>LotConfig</th>\n",
       "      <th>...</th>\n",
       "      <th>PoolArea</th>\n",
       "      <th>PoolQC</th>\n",
       "      <th>Fence</th>\n",
       "      <th>MiscFeature</th>\n",
       "      <th>MiscVal</th>\n",
       "      <th>MoSold</th>\n",
       "      <th>YrSold</th>\n",
       "      <th>SaleType</th>\n",
       "      <th>SaleCondition</th>\n",
       "      <th>SalePrice</th>\n",
       "    </tr>\n",
       "    <tr>\n",
       "      <th>Id</th>\n",
       "      <th></th>\n",
       "      <th></th>\n",
       "      <th></th>\n",
       "      <th></th>\n",
       "      <th></th>\n",
       "      <th></th>\n",
       "      <th></th>\n",
       "      <th></th>\n",
       "      <th></th>\n",
       "      <th></th>\n",
       "      <th></th>\n",
       "      <th></th>\n",
       "      <th></th>\n",
       "      <th></th>\n",
       "      <th></th>\n",
       "      <th></th>\n",
       "      <th></th>\n",
       "      <th></th>\n",
       "      <th></th>\n",
       "      <th></th>\n",
       "      <th></th>\n",
       "    </tr>\n",
       "  </thead>\n",
       "  <tbody>\n",
       "    <tr>\n",
       "      <th>1</th>\n",
       "      <td>60</td>\n",
       "      <td>RL</td>\n",
       "      <td>65.0</td>\n",
       "      <td>8450</td>\n",
       "      <td>Pave</td>\n",
       "      <td>NaN</td>\n",
       "      <td>Reg</td>\n",
       "      <td>Lvl</td>\n",
       "      <td>AllPub</td>\n",
       "      <td>Inside</td>\n",
       "      <td>...</td>\n",
       "      <td>0</td>\n",
       "      <td>NaN</td>\n",
       "      <td>NaN</td>\n",
       "      <td>NaN</td>\n",
       "      <td>0</td>\n",
       "      <td>2</td>\n",
       "      <td>2008</td>\n",
       "      <td>WD</td>\n",
       "      <td>Normal</td>\n",
       "      <td>208500</td>\n",
       "    </tr>\n",
       "    <tr>\n",
       "      <th>2</th>\n",
       "      <td>20</td>\n",
       "      <td>RL</td>\n",
       "      <td>80.0</td>\n",
       "      <td>9600</td>\n",
       "      <td>Pave</td>\n",
       "      <td>NaN</td>\n",
       "      <td>Reg</td>\n",
       "      <td>Lvl</td>\n",
       "      <td>AllPub</td>\n",
       "      <td>FR2</td>\n",
       "      <td>...</td>\n",
       "      <td>0</td>\n",
       "      <td>NaN</td>\n",
       "      <td>NaN</td>\n",
       "      <td>NaN</td>\n",
       "      <td>0</td>\n",
       "      <td>5</td>\n",
       "      <td>2007</td>\n",
       "      <td>WD</td>\n",
       "      <td>Normal</td>\n",
       "      <td>181500</td>\n",
       "    </tr>\n",
       "    <tr>\n",
       "      <th>3</th>\n",
       "      <td>60</td>\n",
       "      <td>RL</td>\n",
       "      <td>68.0</td>\n",
       "      <td>11250</td>\n",
       "      <td>Pave</td>\n",
       "      <td>NaN</td>\n",
       "      <td>IR1</td>\n",
       "      <td>Lvl</td>\n",
       "      <td>AllPub</td>\n",
       "      <td>Inside</td>\n",
       "      <td>...</td>\n",
       "      <td>0</td>\n",
       "      <td>NaN</td>\n",
       "      <td>NaN</td>\n",
       "      <td>NaN</td>\n",
       "      <td>0</td>\n",
       "      <td>9</td>\n",
       "      <td>2008</td>\n",
       "      <td>WD</td>\n",
       "      <td>Normal</td>\n",
       "      <td>223500</td>\n",
       "    </tr>\n",
       "    <tr>\n",
       "      <th>4</th>\n",
       "      <td>70</td>\n",
       "      <td>RL</td>\n",
       "      <td>60.0</td>\n",
       "      <td>9550</td>\n",
       "      <td>Pave</td>\n",
       "      <td>NaN</td>\n",
       "      <td>IR1</td>\n",
       "      <td>Lvl</td>\n",
       "      <td>AllPub</td>\n",
       "      <td>Corner</td>\n",
       "      <td>...</td>\n",
       "      <td>0</td>\n",
       "      <td>NaN</td>\n",
       "      <td>NaN</td>\n",
       "      <td>NaN</td>\n",
       "      <td>0</td>\n",
       "      <td>2</td>\n",
       "      <td>2006</td>\n",
       "      <td>WD</td>\n",
       "      <td>Abnorml</td>\n",
       "      <td>140000</td>\n",
       "    </tr>\n",
       "    <tr>\n",
       "      <th>5</th>\n",
       "      <td>60</td>\n",
       "      <td>RL</td>\n",
       "      <td>84.0</td>\n",
       "      <td>14260</td>\n",
       "      <td>Pave</td>\n",
       "      <td>NaN</td>\n",
       "      <td>IR1</td>\n",
       "      <td>Lvl</td>\n",
       "      <td>AllPub</td>\n",
       "      <td>FR2</td>\n",
       "      <td>...</td>\n",
       "      <td>0</td>\n",
       "      <td>NaN</td>\n",
       "      <td>NaN</td>\n",
       "      <td>NaN</td>\n",
       "      <td>0</td>\n",
       "      <td>12</td>\n",
       "      <td>2008</td>\n",
       "      <td>WD</td>\n",
       "      <td>Normal</td>\n",
       "      <td>250000</td>\n",
       "    </tr>\n",
       "  </tbody>\n",
       "</table>\n",
       "<p>5 rows × 80 columns</p>\n",
       "</div>"
      ],
      "text/plain": [
       "    MSSubClass MSZoning  LotFrontage  LotArea Street Alley LotShape  \\\n",
       "Id                                                                    \n",
       "1           60       RL         65.0     8450   Pave   NaN      Reg   \n",
       "2           20       RL         80.0     9600   Pave   NaN      Reg   \n",
       "3           60       RL         68.0    11250   Pave   NaN      IR1   \n",
       "4           70       RL         60.0     9550   Pave   NaN      IR1   \n",
       "5           60       RL         84.0    14260   Pave   NaN      IR1   \n",
       "\n",
       "   LandContour Utilities LotConfig  ... PoolArea PoolQC Fence MiscFeature  \\\n",
       "Id                                  ...                                     \n",
       "1          Lvl    AllPub    Inside  ...        0    NaN   NaN         NaN   \n",
       "2          Lvl    AllPub       FR2  ...        0    NaN   NaN         NaN   \n",
       "3          Lvl    AllPub    Inside  ...        0    NaN   NaN         NaN   \n",
       "4          Lvl    AllPub    Corner  ...        0    NaN   NaN         NaN   \n",
       "5          Lvl    AllPub       FR2  ...        0    NaN   NaN         NaN   \n",
       "\n",
       "   MiscVal MoSold  YrSold  SaleType  SaleCondition  SalePrice  \n",
       "Id                                                             \n",
       "1        0      2    2008        WD         Normal     208500  \n",
       "2        0      5    2007        WD         Normal     181500  \n",
       "3        0      9    2008        WD         Normal     223500  \n",
       "4        0      2    2006        WD        Abnorml     140000  \n",
       "5        0     12    2008        WD         Normal     250000  \n",
       "\n",
       "[5 rows x 80 columns]"
      ]
     },
     "execution_count": 33,
     "metadata": {},
     "output_type": "execute_result"
    }
   ],
   "source": [
    "X.head()"
   ]
  },
  {
   "cell_type": "markdown",
   "metadata": {},
   "source": [
    "## Preprocessing data"
   ]
  },
  {
   "cell_type": "code",
   "execution_count": 34,
   "metadata": {},
   "outputs": [],
   "source": [
    "# clear rows without target parameter 'Price'\n",
    "X.dropna(axis=0, subset=['SalePrice'], inplace=True)\n",
    "\n",
    "# set target\n",
    "y = X.SalePrice\n",
    "\n",
    "# drop target from features set\n",
    "X.drop(['SalePrice'], axis=1, inplace=True)\n",
    "\n",
    "# split data\n",
    "X_train_full, X_valid_full, y_train_full, y_valid_full = train_test_split(\n",
    "    X, \n",
    "    y, \n",
    "    train_size=0.8,\n",
    "    test_size=0.2,\n",
    "    random_state=0\n",
    ")"
   ]
  },
  {
   "cell_type": "code",
   "execution_count": 35,
   "metadata": {},
   "outputs": [],
   "source": [
    "# select categorical features with low cardinality\n",
    "low_cardinality_cols = [card_col for card_col in X_train_full.columns if \n",
    "                        X_train_full[card_col].nunique() < 10 and\n",
    "                        X_train_full[card_col].dtype == 'object']\n",
    "# select numeric features\n",
    "numeric_cols = [n_col for n_col in X_train_full.columns if \n",
    "                X_test_full[n_col].dtype in ['int64', 'float64']]"
   ]
  },
  {
   "cell_type": "code",
   "execution_count": 36,
   "metadata": {},
   "outputs": [],
   "source": [
    "# imputation function for categorical features\n",
    "def imputation_cat_features(train_cat, valid_cat, test_cat, strategy='most_frequent'):\n",
    "    cat_imputer = SimpleImputer(strategy=strategy)\n",
    "    \n",
    "    imp_cat_train = pd.DataFrame(cat_imputer.fit_transform(train_cat))\n",
    "    imp_cat_valid = pd.DataFrame(cat_imputer.transform(valid_cat))\n",
    "    imp_cat_test = pd.DataFrame(cat_imputer.transform(test_cat))\n",
    "    \n",
    "    imp_cat_train.columns = train_cat.columns\n",
    "    imp_cat_valid.columns = valid_cat.columns\n",
    "    imp_cat_test.columns = test_cat.columns\n",
    "    \n",
    "    return [imp_cat_train, imp_cat_valid, imp_cat_test]"
   ]
  },
  {
   "cell_type": "code",
   "execution_count": 37,
   "metadata": {},
   "outputs": [],
   "source": [
    "# imputation function for numerical features\n",
    "def imputation_num_features(train, valid, test, strategy):\n",
    "    num_imputer = SimpleImputer(strategy=strategy)\n",
    "    \n",
    "    imp_train = pd.DataFrame(num_imputer.fit_transform(train))\n",
    "    imp_valid = pd.DataFrame(num_imputer.transform(valid))\n",
    "    imp_test = pd.DataFrame(num_imputer.transform(test))\n",
    "    \n",
    "    imp_train.columns = train.columns\n",
    "    imp_valid.columns = valid.columns\n",
    "    imp_test.columns = test.columns\n",
    "    \n",
    "    return [imp_train, imp_valid, imp_test]"
   ]
  },
  {
   "cell_type": "code",
   "execution_count": 38,
   "metadata": {},
   "outputs": [],
   "source": [
    "# defining categorical features for train, valid and test data subsets\n",
    "X_train_cat = X_train_full[low_cardinality_cols]\n",
    "X_valid_cat = X_valid_full[low_cardinality_cols]\n",
    "X_test_cat = X_test_full[low_cardinality_cols]\n",
    "\n",
    "# imputation categorical features\n",
    "imp_X_train_cat, imp_X_valid_cat, imp_X_test_cat = imputation_cat_features(\n",
    "    X_train_cat, X_valid_cat, X_test_cat\n",
    ")"
   ]
  },
  {
   "cell_type": "code",
   "execution_count": 39,
   "metadata": {},
   "outputs": [
    {
     "name": "stdout",
     "output_type": "stream",
     "text": [
      "(1168, 40) (292, 40) (1459, 40)\n"
     ]
    }
   ],
   "source": [
    "print(imp_X_train_cat.shape, imp_X_valid_cat.shape, imp_X_test_cat.shape)"
   ]
  },
  {
   "cell_type": "code",
   "execution_count": 40,
   "metadata": {},
   "outputs": [],
   "source": [
    "# defining numerical features for train, valid and test data subsets\n",
    "X_train_num = X_train_full[numeric_cols]\n",
    "X_valid_num = X_valid_full[numeric_cols]\n",
    "X_test_num = X_test_full[numeric_cols]\n",
    "\n",
    "# imputation numerical features\n",
    "imp_X_train_num, imp_X_valid_num, imp_X_test_num = imputation_num_features(\n",
    "    X_train_num, X_valid_num, X_test_num, 'mean'\n",
    ")"
   ]
  },
  {
   "cell_type": "code",
   "execution_count": 41,
   "metadata": {},
   "outputs": [],
   "source": [
    "# concatenation of numerical and categorical features\n",
    "X_train = pd.concat([imp_X_train_num, imp_X_train_cat], axis=1)\n",
    "X_valid = pd.concat([imp_X_valid_num, imp_X_valid_cat], axis=1)\n",
    "X_test = pd.concat([imp_X_test_num, imp_X_test_cat], axis=1)"
   ]
  },
  {
   "cell_type": "code",
   "execution_count": 42,
   "metadata": {},
   "outputs": [],
   "source": [
    "# one-hot encoder (for categorical data) on full data set\n",
    "X_train = pd.get_dummies(X_train)\n",
    "X_valid = pd.get_dummies(X_valid)\n",
    "X_test = pd.get_dummies(X_test)"
   ]
  },
  {
   "cell_type": "code",
   "execution_count": 43,
   "metadata": {},
   "outputs": [
    {
     "name": "stdout",
     "output_type": "stream",
     "text": [
      "X_train: (1168, 227)\n",
      "X_valid: (292, 208)\n",
      "X_test: (1459, 217)\n"
     ]
    }
   ],
   "source": [
    "# checking data before alignment\n",
    "print(f\"X_train: {X_train.shape}\\nX_valid: {X_valid.shape}\\nX_test: {X_test.shape}\")"
   ]
  },
  {
   "cell_type": "code",
   "execution_count": 44,
   "metadata": {},
   "outputs": [],
   "source": [
    "# align datasets for the same number of columns\n",
    "X_train, X_valid = X_train.align(X_valid, join='left', axis=1)\n",
    "X_train, X_test = X_train.align(X_test, join='left', axis=1)"
   ]
  },
  {
   "cell_type": "code",
   "execution_count": 45,
   "metadata": {},
   "outputs": [
    {
     "name": "stdout",
     "output_type": "stream",
     "text": [
      "X_train: (1168, 227)\n",
      "X_valid: (292, 227)\n",
      "X_test: (1459, 227)\n"
     ]
    }
   ],
   "source": [
    "# checking data after alignment\n",
    "print(f\"X_train: {X_train.shape}\\nX_valid: {X_valid.shape}\\nX_test: {X_test.shape}\")"
   ]
  },
  {
   "cell_type": "markdown",
   "metadata": {},
   "source": [
    "## XGBoost"
   ]
  },
  {
   "cell_type": "code",
   "execution_count": 48,
   "metadata": {},
   "outputs": [],
   "source": [
    "def score_xgb_model(n, alpha, stop_rounds, verb=False):\n",
    "    # defining XGBoost model\n",
    "    xgb_model = XGBRegressor(n_estimators=n, learning_rate=alpha)\n",
    "\n",
    "    # fitting model\n",
    "    xgb_model.fit(\n",
    "        X_train,\n",
    "        y_train_full,\n",
    "        early_stopping_rounds=stop_rounds,\n",
    "        eval_set=[(X_valid, y_valid_full)],\n",
    "        verbose=verb\n",
    "    )\n",
    "    \n",
    "    # getting predictions\n",
    "    preds = xgb_model.predict(X_valid)\n",
    "    \n",
    "    # evaluating model efficiency\n",
    "    mae = mean_absolute_error(preds, y_valid_full)\n",
    "    \n",
    "    return mae"
   ]
  },
  {
   "cell_type": "code",
   "execution_count": 110,
   "metadata": {},
   "outputs": [],
   "source": [
    "# defining ten models with different alpha rate parameter\n",
    "model_1 = score_xgb_model(1000, 0.01, 20)\n",
    "model_2 = score_xgb_model(1000, 0.02, 20)\n",
    "model_3 = score_xgb_model(1000, 0.03, 20)\n",
    "model_4 = score_xgb_model(1000, 0.04, 20)\n",
    "model_5 = score_xgb_model(1000, 0.05, 20)\n",
    "model_6 = score_xgb_model(1000, 0.06, 20)\n",
    "model_7 = score_xgb_model(1000, 0.07, 20)\n",
    "model_8 = score_xgb_model(1000, 0.08, 20)\n",
    "model_9 = score_xgb_model(1000, 0.09, 20)\n",
    "model_10 = score_xgb_model(1000, 0.1, 20)\n",
    "\n",
    "models = [model_1, model_2, model_3, model_4, model_5, model_6, model_7, model_8, model_9, model_10]\n",
    "\n",
    "results = pd.Series(models, index=[0.01, 0.02, 0.03, 0.04, 0.05, 0.06, 0.07, 0.08, 0.09, 0.1])"
   ]
  },
  {
   "cell_type": "markdown",
   "metadata": {},
   "source": [
    "## Testing - data visualization"
   ]
  },
  {
   "cell_type": "code",
   "execution_count": 115,
   "metadata": {},
   "outputs": [
    {
     "data": {
      "text/plain": [
       "Text(0, 0.5, 'Score')"
      ]
     },
     "execution_count": 115,
     "metadata": {},
     "output_type": "execute_result"
    },
    {
     "data": {
      "image/png": "[encoded data removed]",
      "text/plain": [
       "<Figure size 720x432 with 1 Axes>"
      ]
     },
     "metadata": {},
     "output_type": "display_data"
    }
   ],
   "source": [
    "# visualizing results\n",
    "\n",
    "# plot area size\n",
    "plt.figure(figsize=(10,6))\n",
    "\n",
    "# style\n",
    "sns.set_theme(style=\"whitegrid\")\n",
    "\n",
    "# plot title\n",
    "plt.title(\"Evaluating model's scores by alpha rate\")\n",
    "\n",
    "# define barplot\n",
    "lineplot = sns.lineplot(data=results)\n",
    "\n",
    "\n",
    "# label points on the plot\n",
    "for x, y in zip(results.index, results.values):\n",
    " # the position of the data label relative to the data point can be adjusted by adding/subtracting a value from the x &/ y coordinates\n",
    " plt.text(x = x, # x-coordinate position of data label\n",
    " y = y-20, # y-coordinate position of data label, adjusted to be 150 below the data point\n",
    " s = \"{:.3f}\".format(y), # data label, formatted to ignore decimals\n",
    " color = '#ffffff').set_backgroundcolor('#e74c3c') # set colour of line\n",
    "\n",
    "\n",
    "# axis labels\n",
    "plt.xlabel(\"Alpha rate\")\n",
    "plt.ylabel(\"Score\")"
   ]
  },
  {
   "cell_type": "code",
   "execution_count": null,
   "metadata": {},
   "outputs": [],
   "source": []
  }
 ],
 "metadata": {
  "kernelspec": {
   "display_name": "Python 3",
   "language": "python",
   "name": "python3"
  },
  "language_info": {
   "codemirror_mode": {
    "name": "ipython",
    "version": 3
   },
   "file_extension": ".py",
   "mimetype": "text/x-python",
   "name": "python",
   "nbconvert_exporter": "python",
   "pygments_lexer": "ipython3",
   "version": "3.9.0"
  }
 },
 "nbformat": 4,
 "nbformat_minor": 4
}
